{
  "nbformat": 4,
  "nbformat_minor": 0,
  "metadata": {
    "colab": {
      "provenance": []
    },
    "kernelspec": {
      "name": "python3",
      "display_name": "Python 3"
    },
    "language_info": {
      "name": "python"
    }
  },
  "cells": [
    {
      "cell_type": "markdown",
      "source": [
        "import random: This command imports the \"random\" Python module, which has routines for creating random integers. When you need to add some randomization to your code, you frequently utilize this module.\n",
        "import matplotlib.pyplot as plt: This line imports the \"matplotlib.pyplot\" module and, for convenience, gives it the alias \"plt\". Python's popular charting library Matplotlib has a module called pyplot that offers an easy-to-use interface for making different kinds of plots. One popular practice to shorten and improve the readability of the code is to import it as \"plt\"."
      ],
      "metadata": {
        "id": "QceNb90-p27d"
      }
    },
    {
      "cell_type": "code",
      "source": [
        "import random\n",
        "import matplotlib.pyplot as plt"
      ],
      "metadata": {
        "id": "RxhtxI4YODSS"
      },
      "execution_count": null,
      "outputs": []
    },
    {
      "cell_type": "markdown",
      "source": [
        "Here a dict is been create name mapping_dict.Use of zip:zip is used to create pairs of numbers from two ranges (0 to 9), and dict() is then used to convert these pairs into key-value pairs, resulting in a dictionary. Each number serves as both the key and the corresponding value in the dictionary."
      ],
      "metadata": {
        "id": "6ayahS4kqqLG"
      }
    },
    {
      "cell_type": "code",
      "source": [
        "mapping_dict = dict(zip(range(0,10),range(0,10)))"
      ],
      "metadata": {
        "id": "FGnBzV3zOETL"
      },
      "execution_count": null,
      "outputs": []
    },
    {
      "cell_type": "markdown",
      "source": [
        "Use to print mapping_dict"
      ],
      "metadata": {
        "id": "m77oCYHRrGf2"
      }
    },
    {
      "cell_type": "code",
      "source": [
        "mapping_dict"
      ],
      "metadata": {
        "colab": {
          "base_uri": "https://localhost:8080/"
        },
        "id": "Iev7KdLxOGxa",
        "outputId": "aabb06f1-0649-463f-cdf0-0fc66e5ed0ca"
      },
      "execution_count": null,
      "outputs": [
        {
          "output_type": "execute_result",
          "data": {
            "text/plain": [
              "{0: 0, 1: 1, 2: 2, 3: 3, 4: 4, 5: 5, 6: 6, 7: 7, 8: 8, 9: 9}"
            ]
          },
          "metadata": {},
          "execution_count": 3
        }
      ]
    },
    {
      "cell_type": "markdown",
      "source": [
        "In this code the loop is working in the mapping_dict to Take the thing that belongs to 'k' in our dict, turn it into a string, and then put it back in the same spot."
      ],
      "metadata": {
        "id": "VjcY2NXwrMak"
      }
    },
    {
      "cell_type": "code",
      "source": [
        "for k in mapping_dict.keys():\n",
        "\n",
        "  mapping_dict[k] = str(mapping_dict[k])"
      ],
      "metadata": {
        "id": "cBu78lnDOJJS"
      },
      "execution_count": null,
      "outputs": []
    },
    {
      "cell_type": "markdown",
      "source": [
        "use to print the mapping_dict."
      ],
      "metadata": {
        "id": "gu9TmeqnsQ4R"
      }
    },
    {
      "cell_type": "code",
      "source": [
        "mapping_dict"
      ],
      "metadata": {
        "colab": {
          "base_uri": "https://localhost:8080/"
        },
        "id": "LR1sQ-iZOLE8",
        "outputId": "5feb7559-9688-4f3f-caa9-2342e8e88949"
      },
      "execution_count": null,
      "outputs": [
        {
          "output_type": "execute_result",
          "data": {
            "text/plain": [
              "{0: '0',\n",
              " 1: '1',\n",
              " 2: '2',\n",
              " 3: '3',\n",
              " 4: '4',\n",
              " 5: '5',\n",
              " 6: '6',\n",
              " 7: '7',\n",
              " 8: '8',\n",
              " 9: '9'}"
            ]
          },
          "metadata": {},
          "execution_count": 5
        }
      ]
    },
    {
      "cell_type": "markdown",
      "source": [
        "In the line of code we are creating a mapping where each number from 10 to 35 is associated with a letter from 'A' to 'Z'. For example, 10 is associated with 'A', 11 with 'B', and so on.because we have use the 0 to 9 to represent 0 to 9."
      ],
      "metadata": {
        "id": "ZXcCPJcisXoR"
      }
    },
    {
      "cell_type": "code",
      "source": [
        "for i in range(0,26):\n",
        "  mapping_dict[10+i] = chr(65+i)"
      ],
      "metadata": {
        "id": "8klQWR0vONMx"
      },
      "execution_count": null,
      "outputs": []
    },
    {
      "cell_type": "markdown",
      "source": [
        "Use to print the mapping_dict."
      ],
      "metadata": {
        "id": "tXOTZ0kws2m4"
      }
    },
    {
      "cell_type": "code",
      "source": [
        "mapping_dict"
      ],
      "metadata": {
        "colab": {
          "base_uri": "https://localhost:8080/"
        },
        "id": "9erhb57IOQPS",
        "outputId": "a26ae16f-5375-4770-fafc-06189dcb01d8"
      },
      "execution_count": null,
      "outputs": [
        {
          "output_type": "execute_result",
          "data": {
            "text/plain": [
              "{0: '0',\n",
              " 1: '1',\n",
              " 2: '2',\n",
              " 3: '3',\n",
              " 4: '4',\n",
              " 5: '5',\n",
              " 6: '6',\n",
              " 7: '7',\n",
              " 8: '8',\n",
              " 9: '9',\n",
              " 10: 'A',\n",
              " 11: 'B',\n",
              " 12: 'C',\n",
              " 13: 'D',\n",
              " 14: 'E',\n",
              " 15: 'F',\n",
              " 16: 'G',\n",
              " 17: 'H',\n",
              " 18: 'I',\n",
              " 19: 'J',\n",
              " 20: 'K',\n",
              " 21: 'L',\n",
              " 22: 'M',\n",
              " 23: 'N',\n",
              " 24: 'O',\n",
              " 25: 'P',\n",
              " 26: 'Q',\n",
              " 27: 'R',\n",
              " 28: 'S',\n",
              " 29: 'T',\n",
              " 30: 'U',\n",
              " 31: 'V',\n",
              " 32: 'W',\n",
              " 33: 'X',\n",
              " 34: 'Y',\n",
              " 35: 'Z'}"
            ]
          },
          "metadata": {},
          "execution_count": 7
        }
      ]
    },
    {
      "cell_type": "markdown",
      "source": [
        "Firstly in the line we have Creates a new, empty list named random_numbers to hold the strings that are created.Then we have run a loop for  50 random strings are produced by this loop when it runs 50 times. At each iteration of the outer loop, blank_str is initialized as an empty string.random_digit = random.randint(0, 35): This function uses mapping_dict to convert a randomly generated integer between 0 and 35 (inclusive) into an uppercase letter. After two iterations, this procedure is concatenated to blank_str.for i in range(0, 8):: An additional loop that runs eight times inside the outer loop.A coin toss is simulated using coin_toss = random.randint(0, 1). Another random number is selected and added to blank_str if the outcome is 1. The string is finished if the outcome is 0. Otherwise, the inner loop is broken.append(blank_str) random_numbers: adds the produced string to the random_numbers list."
      ],
      "metadata": {
        "id": "5y-QM8vds9UW"
      }
    },
    {
      "cell_type": "code",
      "source": [
        "random_numbers = list()\n",
        "\n",
        "for i in range(0,50):\n",
        "\n",
        "  blank_str = str()\n",
        "\n",
        "  random_digit = random.randint(0,35)\n",
        "  blank_str = blank_str + mapping_dict[random_digit]\n",
        "\n",
        "  random_digit = random.randint(0,35)\n",
        "  blank_str = blank_str + mapping_dict[random_digit]\n",
        "\n",
        "  for i in range(0,8):\n",
        "    coin_toss = random.randint(0,1)\n",
        "\n",
        "    if coin_toss == 1:\n",
        "\n",
        "      random_digit = random.randint(0,35)\n",
        "      blank_str = blank_str + mapping_dict[random_digit]\n",
        "\n",
        "    else:\n",
        "      break\n",
        "\n",
        "  random_numbers.append(blank_str)"
      ],
      "metadata": {
        "id": "SFioJtwwOSHi"
      },
      "execution_count": null,
      "outputs": []
    },
    {
      "cell_type": "code",
      "source": [],
      "metadata": {
        "colab": {
          "base_uri": "https://localhost:8080/",
          "height": 35
        },
        "id": "pyYgzhikvDrq",
        "outputId": "7082d729-0a78-44e8-a203-6a29543baebb"
      },
      "execution_count": null,
      "outputs": [
        {
          "output_type": "execute_result",
          "data": {
            "text/plain": [
              "'X8V7'"
            ],
            "application/vnd.google.colaboratory.intrinsic+json": {
              "type": "string"
            }
          },
          "metadata": {},
          "execution_count": 9
        }
      ]
    },
    {
      "cell_type": "markdown",
      "source": [
        "reverse_mapping_dict = dict() creates an empty dictionary to hold the reversed mapping and initializes it.in mapping_dict.keys() for k:: This loop goes over the original dictionary's (mapping_dict) keys one by one.mapping_dict[k] = reverse_mapping_dict[k]: Within the loop, a new key-value pair is assigned to the reverse_mapping_dict in reverse order when the loop retrieves the key k from the original dictionary and looks for its matching value (mapping_dict[k]).\n",
        "To put it another way, it makes a new dictionary in which the values from the old dictionary are replaced with new ones, and the keys with new values."
      ],
      "metadata": {
        "id": "-JEzWr8WurWs"
      }
    },
    {
      "cell_type": "code",
      "source": [
        "reverse_mapping_dict = dict()\n",
        "\n",
        "for k in mapping_dict.keys():\n",
        "  reverse_mapping_dict[mapping_dict[k]] = k"
      ],
      "metadata": {
        "id": "Ogzu4Fm_OcDq"
      },
      "execution_count": null,
      "outputs": []
    },
    {
      "cell_type": "markdown",
      "source": [
        "in random_numbers for blank_string:: Every string (blank_string) in the list random_numbers is iterated over in this loop.\n",
        "Highest_digit = max(blank_string): identifies the string's highest character (digit). To determine which character has the highest Unicode code point, utilize the max function.highest_base = reverse_mapping_dict[highest_digit] + 1: Looks up the original key (number) connected to the highest digit using the reversed mapping dictionary (reverse_mapping_dict). The highest base is then formed by adding 1 to the key. This is presuming that the string's digits correspond to numbers in a certain base.The original string is printed using print(blank_string) with the number of iteration the code will run."
      ],
      "metadata": {
        "id": "rhrj1rbFxb7b"
      }
    },
    {
      "cell_type": "code",
      "source": [
        "for blank_string in random_numbers:\n",
        "  highest_digit = max(blank_string)\n",
        "  highest_base = reverse_mapping_dict[highest_digit]+1\n",
        "  print(blank_string)\n"
      ],
      "metadata": {
        "colab": {
          "base_uri": "https://localhost:8080/"
        },
        "id": "eOCvLTeVv5Ih",
        "outputId": "9f5798f9-68b3-402a-c59c-1699ac9786ee"
      },
      "execution_count": null,
      "outputs": [
        {
          "output_type": "stream",
          "name": "stdout",
          "text": [
            "0N\n",
            "TN\n",
            "29H7T\n",
            "61\n",
            "02\n",
            "16\n",
            "QB\n",
            "KT\n",
            "Q4BH\n",
            "A6L\n",
            "YN\n",
            "YZ\n",
            "7CZ9F\n",
            "00W\n",
            "FN\n",
            "W49G\n",
            "AVT\n",
            "VM1\n",
            "Q1\n",
            "SU\n",
            "CJ\n",
            "WW\n",
            "MX\n",
            "5QJ\n",
            "0C\n",
            "OUSPQ\n",
            "ZBRAP\n",
            "6F3WEF1P\n",
            "MK\n",
            "Q5\n",
            "PGR\n",
            "HCN\n",
            "Q6F\n",
            "C95\n",
            "6Y\n",
            "69K\n",
            "ELF\n",
            "DN7O\n",
            "YT\n",
            "YEZ\n",
            "ON9U\n",
            "14TNN\n",
            "N0\n",
            "IU\n",
            "E9\n",
            "UNP\n",
            "ZBK7W\n",
            "AU\n",
            "NL\n",
            "X8V7\n"
          ]
        }
      ]
    },
    {
      "cell_type": "markdown",
      "source": [
        "It is similar to the upper code but one change that it will print the highest base of the string generate useing the formula."
      ],
      "metadata": {
        "id": "bkXnQlmtx89_"
      }
    },
    {
      "cell_type": "code",
      "source": [
        "for blank_string in random_numbers:\n",
        "  highest_digit = max(blank_string)\n",
        "  highest_base = reverse_mapping_dict[highest_digit]+1\n",
        "  print(highest_base)"
      ],
      "metadata": {
        "colab": {
          "base_uri": "https://localhost:8080/"
        },
        "id": "V5eZHHkLwSmE",
        "outputId": "10dfdd40-733a-40a9-b8a3-ad859c3eb34e"
      },
      "execution_count": null,
      "outputs": [
        {
          "output_type": "stream",
          "name": "stdout",
          "text": [
            "24\n",
            "30\n",
            "30\n",
            "7\n",
            "3\n",
            "7\n",
            "27\n",
            "30\n",
            "27\n",
            "22\n",
            "35\n",
            "36\n",
            "36\n",
            "33\n",
            "24\n",
            "33\n",
            "32\n",
            "32\n",
            "27\n",
            "31\n",
            "20\n",
            "33\n",
            "34\n",
            "27\n",
            "13\n",
            "31\n",
            "36\n",
            "33\n",
            "23\n",
            "27\n",
            "28\n",
            "24\n",
            "27\n",
            "13\n",
            "35\n",
            "21\n",
            "22\n",
            "25\n",
            "35\n",
            "36\n",
            "31\n",
            "30\n",
            "24\n",
            "31\n",
            "15\n",
            "31\n",
            "36\n",
            "31\n",
            "24\n",
            "34\n"
          ]
        }
      ]
    },
    {
      "cell_type": "markdown",
      "source": [
        "This function initializes a base_frequency dictionary, which will hold the frequency of each greatest base.\n",
        "\n",
        "in random_numbers,  in the list random_numbers is iterated over in this loop.Returns the string's highest character (digit). Looks up the original key (number) connected to the highest digit using the reversed mapping dictionary (reverse_mapping_dict). To obtain the highest base, add one to the key Determines whether the highest base in the base_frequency dictionary already serves as a key.Increases the count of the highest base by 1 if it is already in the dictionary. to calculate the base of the following.\n",
        "else: It adds a new key-value pair with the highest base and sets its count to 1 if the highest base is not already in the dictionary."
      ],
      "metadata": {
        "id": "JJT9CjC9yQcj"
      }
    },
    {
      "cell_type": "code",
      "source": [
        "base_frequency = dict()\n",
        "\n",
        "for blank_str in random_numbers:\n",
        "  highest_digit = max(blank_str)\n",
        "  highest_base = reverse_mapping_dict[highest_digit] + 1\n",
        "\n",
        "  if highest_base in base_frequency.keys():\n",
        "    base_frequency[highest_base] += 1\n",
        "  else:\n",
        "    base_frequency[highest_base] = 1"
      ],
      "metadata": {
        "id": "JES7eV10Of1R"
      },
      "execution_count": null,
      "outputs": []
    },
    {
      "cell_type": "markdown",
      "source": [
        "plt.bar(height = base_frequency.values(), x = base_frequency.keys()): uses the bar function from matplotlib.pyplot to create a bar chart. The base_frequency keys on the x-axis are specified by the x parameter, and the base_frequency values on the bars are indicated by the height parameter.The bar chart is displayed with plt.show().To put it another way, this code creates a bar chart with the highest bases on the x-axis and the frequency of occurrence of each base in the data represented by the height of each bar. The generated graphic shows the frequency with which various greatest bases occur in the dataset."
      ],
      "metadata": {
        "id": "ya-P1orVzpsy"
      }
    },
    {
      "cell_type": "code",
      "source": [
        "plt.bar(x=base_frequency.keys(),height=base_frequency.values())"
      ],
      "metadata": {
        "id": "pVE8DkqmOj4a",
        "outputId": "d86f49e8-576a-4a1e-c4a8-60fa50af6096",
        "colab": {
          "base_uri": "https://localhost:8080/",
          "height": 447
        }
      },
      "execution_count": null,
      "outputs": [
        {
          "output_type": "execute_result",
          "data": {
            "text/plain": [
              "<BarContainer object of 19 artists>"
            ]
          },
          "metadata": {},
          "execution_count": 13
        },
        {
          "output_type": "display_data",
          "data": {
            "text/plain": [
              "<Figure size 640x480 with 1 Axes>"
            ],
            "image/png": "[encoded data removed]"
          },
          "metadata": {}
        }
      ]
    }
  ]
}